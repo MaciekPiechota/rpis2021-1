{
 "cells": [
  {
   "cell_type": "code",
   "execution_count": 1,
   "metadata": {},
   "outputs": [],
   "source": [
    "import math\n",
    "import numpy as np\n",
    "import pandas as pd\n",
    "import matplotlib.pyplot as plt\n",
    "\n",
    "%matplotlib inline"
   ]
  },
  {
   "cell_type": "markdown",
   "metadata": {},
   "source": [
    "# Discrete sampling\n",
    "In the last problem of the first session we sampled with given probabilities using prefix sums and binary search. The sampling code is the bottleneck of the whole process, its running times is 3 times higher than the code for uniform probabilities, and the difference would only increase for larger number of outcomes. In the next two problems we discuss two simple, but powerful techniques one can use to sample in time $O(1)$."
   ]
  },
  {
   "cell_type": "markdown",
   "metadata": {},
   "source": [
    "**Problem 2a.** Consider the problem of sampling with known probabilities $p_1,\\ldots,p_d$. Suppose that you have a black-box that samples with probabilities $q_1,\\ldots,q_d$ that are close to $p_1,\\ldots,p_d$, say\n",
    "$$ \\forall_{i=1,\\ldots,n} p_i \\le (1+\\varepsilon)q_i.$$\n",
    "\n",
    "* How can you use this black-box to sample with probabilities $p_1,\\ldots,p_d$? It is expected, that the running time of the algorithm would be non-deterministic.\n",
    "* Prove that your algorithm is correct.\n",
    "* Implement the algorithm and use it to give a faster implementation for **Problem 1c**."
   ]
  },
  {
   "cell_type": "markdown",
   "metadata": {},
   "source": [
    "$$q_i = 1/d$$"
   ]
  },
  {
   "cell_type": "markdown",
   "metadata": {},
   "source": [
    "$$\\frac{\\bar{p_i}}{q_i} = \\frac{p_i}{q_i * (1 + \\epsilon)} = \\frac{p_i}{p_{max}}$$"
   ]
  },
  {
   "cell_type": "code",
   "execution_count": 2,
   "metadata": {
    "hide_input": false
   },
   "outputs": [],
   "source": [
    "import random\n",
    "\n",
    "\n",
    "N = 100000\n",
    "stats = np.loadtxt('../lab1/us_births_69_88.csv', skiprows=1, delimiter=',', dtype=int)\n",
    "\n",
    "\n",
    "# an example of a closure in Python\n",
    "# Python functions are first class objects (e.g. can be returned in a function)\n",
    "def create_sample(counts):\n",
    "    max_count = np.max(counts)\n",
    "    size = counts.shape[0]\n",
    "    \n",
    "    def sample():\n",
    "        day = random.randint(0, size - 1)\n",
    "        if random.randint(1, max_count) <= counts[day]:\n",
    "            return day\n",
    "        return sample()\n",
    "    return sample\n",
    "\n",
    "\n",
    "def emp_dates(size, sample):\n",
    "    s = set()\n",
    "    for k in range(size + 1):\n",
    "        day = sample()\n",
    "        if day in s:\n",
    "            return k + 1\n",
    "        else:\n",
    "            s.add(day)"
   ]
  },
  {
   "cell_type": "code",
   "execution_count": 3,
   "metadata": {
    "hide_input": false
   },
   "outputs": [
    {
     "name": "stdout",
     "output_type": "stream",
     "text": [
      "CPU times: user 8.76 s, sys: 60.1 ms, total: 8.82 s\n",
      "Wall time: 8.9 s\n"
     ]
    }
   ],
   "source": [
    "%%time\n",
    "\n",
    "\n",
    "size = stats.shape[0]\n",
    "sample = create_sample(stats[:, 2])\n",
    "emp_sample = [emp_dates(size, sample) for _ in range(N)]"
   ]
  },
  {
   "cell_type": "code",
   "execution_count": 4,
   "metadata": {
    "hide_input": false
   },
   "outputs": [
    {
     "data": {
      "image/png": "[encoded data removed]",
      "text/plain": [
       "<Figure size 720x432 with 1 Axes>"
      ]
     },
     "metadata": {
      "needs_background": "light"
     },
     "output_type": "display_data"
    },
    {
     "name": "stdout",
     "output_type": "stream",
     "text": [
      "Couple first most likely values: [20, 19, 23, 21, 22, 24, 18, 17, 26, 16]\n",
      "Average value: 24.60559\n",
      "Average value using numpy: 24.60559\n"
     ]
    }
   ],
   "source": [
    "plt.figure(figsize=(10, 6))\n",
    "plt.hist(emp_sample, bins=range(1, 101))\n",
    "plt.show()\n",
    "\n",
    "# calcultating most probable values in pure Python\n",
    "k_counts = sorted(list(set(emp_sample)), key=emp_sample.count, reverse=True)\n",
    "\n",
    "# numpy version\n",
    "vals, counts = np.unique(emp_sample, return_counts=True)\n",
    "k_counts_numpy = vals[np.argsort(counts)][::-1]\n",
    "\n",
    "# check numpy results\n",
    "# for all values there may be problems with ties so check only first 10 (still might fail rarely)\n",
    "assert (k_counts_numpy[:10] == k_counts[:10]).all()\n",
    "\n",
    "print('Couple first most likely values: {}'.format(k_counts[:10]))\n",
    "\n",
    "print('Average value: {}'.format(float(sum(emp_sample)) / len(emp_sample)))\n",
    "print('Average value using numpy: {}'.format(np.mean(emp_sample)))"
   ]
  },
  {
   "cell_type": "markdown",
   "metadata": {},
   "source": [
    "**Problem 2b.** One of the reasons this implementation is not significantly faster than the one in **Problem 1c** , apart from $d$ being rather small, is that we are using Python's interpreter a bit too much, and Python is slow. One way around this is usually to use a library function - **searchsorted** is much faster than an equivalent code implemented in pure Python. But even if the functionality you need is not implemented in a lower level language as\n",
    "a library function, there is still hope. You can try to implement it using optimized array algebra, for example using **numpy**. In this problem, your task is to rewrite the previous algorithm, so that the amount of *looping* is reduced to a minimum necessary. In particular, you should create a *vectorized* version of random dates generation (in bulk), while the actual search for duplicates remains a loop with a **set**. Here are some useful tips:\n",
    "   * You can perform arithmetic, comparisons, etc. on **numpy** arrays. \n",
    "   * You can generate whole **numpy** arrays of random numbers at once.\n",
    "   * You can even perform parallel look-up like in the example below."
   ]
  },
  {
   "cell_type": "code",
   "execution_count": 5,
   "metadata": {
    "hide_input": true
   },
   "outputs": [
    {
     "name": "stdout",
     "output_type": "stream",
     "text": [
      "[3 3 7 7]\n",
      "[2 1 4]\n"
     ]
    }
   ],
   "source": [
    "X = np.array([10,3,7])\n",
    "I = np.array([1,1,2,2])\n",
    "print(X[I])\n",
    "X = np.array([[1,2],[3,4]])\n",
    "I = np.array([0,0,1])\n",
    "J = np.array([1,0,1])\n",
    "print(X[I,J])"
   ]
  },
  {
   "cell_type": "markdown",
   "metadata": {
    "hide_input": true
   },
   "source": [
    "**Problem 2c (Squaring the histogram).** In this problem, we again want to sample with known probabilities $p_1,\\ldots,p_n$, but this time we make no assumptions on $p_i$. Consider the following algorithm:\n",
    "   * Let $V$ be the mean of $p_i$, i.e. $M=\\frac{1}{n}$.\n",
    "   * Create $n$ buckets, each with volume $V$, put each $p_i$ into a separate bucket.\n",
    "   * Until there exists a bucket $A$ that is not full, find a bucket $B$ that overflows, and trasfer probability from $B$ to $A$ until $A$ is exactly full\n",
    "\n",
    "Show that:\n",
    "   * This algorithm always ends.\n",
    "   * When it ends, each bucket contains pieces of exactly two $p_i$'s.\n",
    "\n",
    "How to use the result of this algorithm to sample with probabilities $p_i$. Argue that your algorithm is correct and implement it. The sampling part should be *vectorized*. Use this algorithm to sample birthdates again, and test its efficiency."
   ]
  },
  {
   "cell_type": "code",
   "execution_count": null,
   "metadata": {},
   "outputs": [],
   "source": []
  },
  {
   "cell_type": "markdown",
   "metadata": {},
   "source": [
    "**Problem 2d.** Show that the frequency histogram for empirical birthday frequencies can actually be computed exactly, and implement your idea. To this end, design a recurence relation using conditional probabilities and use dynamic programming."
   ]
  },
  {
   "cell_type": "code",
   "execution_count": null,
   "metadata": {},
   "outputs": [],
   "source": []
  }
 ],
 "metadata": {
  "hide_input": false,
  "kernelspec": {
   "display_name": "Python 3",
   "language": "python",
   "name": "python3"
  },
  "language_info": {
   "codemirror_mode": {
    "name": "ipython",
    "version": 3
   },
   "file_extension": ".py",
   "mimetype": "text/x-python",
   "name": "python",
   "nbconvert_exporter": "python",
   "pygments_lexer": "ipython3",
   "version": "3.8.5"
  }
 },
 "nbformat": 4,
 "nbformat_minor": 1
}
